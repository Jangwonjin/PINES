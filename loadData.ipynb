{
 "cells": [
  {
   "cell_type": "code",
   "execution_count": 4,
   "metadata": {},
   "outputs": [
    {
     "data": {
      "text/html": [
       "<div>\n",
       "<style scoped>\n",
       "    .dataframe tbody tr th:only-of-type {\n",
       "        vertical-align: middle;\n",
       "    }\n",
       "\n",
       "    .dataframe tbody tr th {\n",
       "        vertical-align: top;\n",
       "    }\n",
       "\n",
       "    .dataframe thead th {\n",
       "        text-align: right;\n",
       "    }\n",
       "</style>\n",
       "<table border=\"1\" class=\"dataframe\">\n",
       "  <thead>\n",
       "    <tr style=\"text-align: right;\">\n",
       "      <th></th>\n",
       "      <th>Dataset</th>\n",
       "      <th>Subject</th>\n",
       "      <th>Holdout</th>\n",
       "      <th>SEX</th>\n",
       "      <th>AGE</th>\n",
       "      <th>RACE</th>\n",
       "      <th>YRS_SCH</th>\n",
       "      <th>Files</th>\n",
       "      <th>Picture</th>\n",
       "      <th>Valence</th>\n",
       "      <th>...</th>\n",
       "      <th>C2_PINES</th>\n",
       "      <th>C3_PINES</th>\n",
       "      <th>C4_PINES</th>\n",
       "      <th>C5_PINES</th>\n",
       "      <th>C6_PINES</th>\n",
       "      <th>C7_PINES</th>\n",
       "      <th>C8_PINES</th>\n",
       "      <th>C9_PINES</th>\n",
       "      <th>PINES</th>\n",
       "      <th>PINES_Within</th>\n",
       "    </tr>\n",
       "  </thead>\n",
       "  <tbody>\n",
       "    <tr>\n",
       "      <th>0</th>\n",
       "      <td>IAPS</td>\n",
       "      <td>101</td>\n",
       "      <td>Test</td>\n",
       "      <td>Female</td>\n",
       "      <td>45</td>\n",
       "      <td>Black</td>\n",
       "      <td>12.0</td>\n",
       "      <td>IAPS_Subject_101_Image_3120.nii.gz</td>\n",
       "      <td>3120.0</td>\n",
       "      <td>negative</td>\n",
       "      <td>...</td>\n",
       "      <td>-0.037539</td>\n",
       "      <td>-0.11424</td>\n",
       "      <td>0.029240</td>\n",
       "      <td>0.13733</td>\n",
       "      <td>-0.010321</td>\n",
       "      <td>-0.011871</td>\n",
       "      <td>0.051608</td>\n",
       "      <td>0.173720</td>\n",
       "      <td>2.315800</td>\n",
       "      <td>NaN</td>\n",
       "    </tr>\n",
       "    <tr>\n",
       "      <th>1</th>\n",
       "      <td>IAPS</td>\n",
       "      <td>101</td>\n",
       "      <td>Test</td>\n",
       "      <td>Female</td>\n",
       "      <td>45</td>\n",
       "      <td>Black</td>\n",
       "      <td>12.0</td>\n",
       "      <td>IAPS_Subject_101_Image_7490.nii.gz</td>\n",
       "      <td>7490.0</td>\n",
       "      <td>neutral</td>\n",
       "      <td>...</td>\n",
       "      <td>0.049023</td>\n",
       "      <td>-0.23142</td>\n",
       "      <td>-0.051219</td>\n",
       "      <td>0.51538</td>\n",
       "      <td>-0.208780</td>\n",
       "      <td>-0.048254</td>\n",
       "      <td>0.008339</td>\n",
       "      <td>-0.010794</td>\n",
       "      <td>1.161943</td>\n",
       "      <td>NaN</td>\n",
       "    </tr>\n",
       "    <tr>\n",
       "      <th>2</th>\n",
       "      <td>IAPS</td>\n",
       "      <td>101</td>\n",
       "      <td>Test</td>\n",
       "      <td>Female</td>\n",
       "      <td>45</td>\n",
       "      <td>Black</td>\n",
       "      <td>12.0</td>\n",
       "      <td>IAPS_Subject_101_Image_7217.nii.gz</td>\n",
       "      <td>7217.0</td>\n",
       "      <td>neutral</td>\n",
       "      <td>...</td>\n",
       "      <td>-0.002759</td>\n",
       "      <td>-0.11421</td>\n",
       "      <td>-0.061456</td>\n",
       "      <td>0.30858</td>\n",
       "      <td>-0.159530</td>\n",
       "      <td>-0.216230</td>\n",
       "      <td>0.105340</td>\n",
       "      <td>-0.049174</td>\n",
       "      <td>0.993450</td>\n",
       "      <td>NaN</td>\n",
       "    </tr>\n",
       "    <tr>\n",
       "      <th>3</th>\n",
       "      <td>IAPS</td>\n",
       "      <td>101</td>\n",
       "      <td>Test</td>\n",
       "      <td>Female</td>\n",
       "      <td>45</td>\n",
       "      <td>Black</td>\n",
       "      <td>12.0</td>\n",
       "      <td>IAPS_Subject_101_Image_9810.nii.gz</td>\n",
       "      <td>9810.0</td>\n",
       "      <td>negative</td>\n",
       "      <td>...</td>\n",
       "      <td>-0.199790</td>\n",
       "      <td>-0.10384</td>\n",
       "      <td>-0.140610</td>\n",
       "      <td>0.54502</td>\n",
       "      <td>0.069548</td>\n",
       "      <td>-0.098920</td>\n",
       "      <td>0.022010</td>\n",
       "      <td>-0.032902</td>\n",
       "      <td>2.163300</td>\n",
       "      <td>NaN</td>\n",
       "    </tr>\n",
       "    <tr>\n",
       "      <th>4</th>\n",
       "      <td>IAPS</td>\n",
       "      <td>101</td>\n",
       "      <td>Test</td>\n",
       "      <td>Female</td>\n",
       "      <td>45</td>\n",
       "      <td>Black</td>\n",
       "      <td>12.0</td>\n",
       "      <td>IAPS_Subject_101_Image_3051.nii.gz</td>\n",
       "      <td>3051.0</td>\n",
       "      <td>negative</td>\n",
       "      <td>...</td>\n",
       "      <td>-0.102580</td>\n",
       "      <td>-0.23020</td>\n",
       "      <td>0.112400</td>\n",
       "      <td>0.31286</td>\n",
       "      <td>0.154440</td>\n",
       "      <td>-0.084358</td>\n",
       "      <td>0.044058</td>\n",
       "      <td>0.077737</td>\n",
       "      <td>2.959600</td>\n",
       "      <td>NaN</td>\n",
       "    </tr>\n",
       "  </tbody>\n",
       "</table>\n",
       "<p>5 rows × 22 columns</p>\n",
       "</div>"
      ],
      "text/plain": [
       "  Dataset  Subject Holdout     SEX  AGE   RACE  YRS_SCH  \\\n",
       "0    IAPS      101    Test  Female   45  Black     12.0   \n",
       "1    IAPS      101    Test  Female   45  Black     12.0   \n",
       "2    IAPS      101    Test  Female   45  Black     12.0   \n",
       "3    IAPS      101    Test  Female   45  Black     12.0   \n",
       "4    IAPS      101    Test  Female   45  Black     12.0   \n",
       "\n",
       "                                Files  Picture   Valence      ...       \\\n",
       "0  IAPS_Subject_101_Image_3120.nii.gz   3120.0  negative      ...        \n",
       "1  IAPS_Subject_101_Image_7490.nii.gz   7490.0   neutral      ...        \n",
       "2  IAPS_Subject_101_Image_7217.nii.gz   7217.0   neutral      ...        \n",
       "3  IAPS_Subject_101_Image_9810.nii.gz   9810.0  negative      ...        \n",
       "4  IAPS_Subject_101_Image_3051.nii.gz   3051.0  negative      ...        \n",
       "\n",
       "   C2_PINES  C3_PINES  C4_PINES  C5_PINES  C6_PINES  C7_PINES  C8_PINES  \\\n",
       "0 -0.037539  -0.11424  0.029240   0.13733 -0.010321 -0.011871  0.051608   \n",
       "1  0.049023  -0.23142 -0.051219   0.51538 -0.208780 -0.048254  0.008339   \n",
       "2 -0.002759  -0.11421 -0.061456   0.30858 -0.159530 -0.216230  0.105340   \n",
       "3 -0.199790  -0.10384 -0.140610   0.54502  0.069548 -0.098920  0.022010   \n",
       "4 -0.102580  -0.23020  0.112400   0.31286  0.154440 -0.084358  0.044058   \n",
       "\n",
       "   C9_PINES     PINES  PINES_Within  \n",
       "0  0.173720  2.315800           NaN  \n",
       "1 -0.010794  1.161943           NaN  \n",
       "2 -0.049174  0.993450           NaN  \n",
       "3 -0.032902  2.163300           NaN  \n",
       "4  0.077737  2.959600           NaN  \n",
       "\n",
       "[5 rows x 22 columns]"
      ]
     },
     "execution_count": 4,
     "metadata": {},
     "output_type": "execute_result"
    }
   ],
   "source": [
    "# load PINES dataset\n",
    "import pandas as pd \n",
    "\n",
    "PINES=pd.read_csv('S1_Data.csv')\n",
    "PINES.head()"
   ]
  },
  {
   "cell_type": "markdown",
   "metadata": {},
   "source": [
    "### Target label ($Y$): emotional states\n",
    "$Y$: participants' responses about their emotional states, numbers between 1 and 5."
   ]
  },
  {
   "cell_type": "code",
   "execution_count": 13,
   "metadata": {
    "scrolled": true
   },
   "outputs": [
    {
     "data": {
      "image/png": "[encoded data removed]",
      "text/plain": [
       "<matplotlib.figure.Figure at 0x1084d9320>"
      ]
     },
     "metadata": {},
     "output_type": "display_data"
    }
   ],
   "source": [
    "# target label: Participants' response, a number between 1 and 5\n",
    "Y=PINES['Rating']\n",
    "\n",
    "# plot histogram of Y\n",
    "import matplotlib.pyplot as plt\n",
    "%matplotlib inline  \n",
    "plt.hist(Y)\n",
    "plt.show()"
   ]
  },
  {
   "cell_type": "markdown",
   "metadata": {},
   "source": [
    "## Predictor ($X$): fMRI image\n",
    "\n",
    "Use fMRI images as a predictor. \n",
    "\n",
    "The following shows how to load an fMRI image from a file."
   ]
  },
  {
   "cell_type": "code",
   "execution_count": 14,
   "metadata": {},
   "outputs": [
    {
     "data": {
      "text/html": [
       "<div id=\"NeuroVaultPapayaHolder\"><script src=\"http://neurovault.org/images/3647/js/embed\" type=\"text/javascript\" charset=\"utf-8\"></script></div>"
      ],
      "text/plain": [
       "<IPython.core.display.HTML object>"
      ]
     },
     "execution_count": 14,
     "metadata": {},
     "output_type": "execute_result"
    }
   ],
   "source": [
    "# plot a sample image \n",
    "from IPython.display import HTML\n",
    "\n",
    "imageID = 3647\n",
    "imageAddress='http://neurovault.org/images/{}'.format(imageID)\n",
    "HTML('<div id=\"NeuroVaultPapayaHolder\"><script src=\"' + imageAddress + '/js/embed\" type=\"text/javascript\" charset=\"utf-8\"></script></div>')"
   ]
  },
  {
   "cell_type": "code",
   "execution_count": null,
   "metadata": {
    "collapsed": true
   },
   "outputs": [],
   "source": [
    "# First, download the data file\n",
    "!wget https://neurovault.org/media/images/503/IAPS_Subject_102_Image_9252.nii.gz"
   ]
  },
  {
   "cell_type": "code",
   "execution_count": 9,
   "metadata": {},
   "outputs": [
    {
     "name": "stdout",
     "output_type": "stream",
     "text": [
      "(79, 95, 68)\n",
      "float32\n",
      "(79, 95, 68)\n"
     ]
    }
   ],
   "source": [
    "# Next, let's load the data    \n",
    "import nibabel as nib\n",
    "\n",
    "# load it\n",
    "nibFilename = 'IAPS_Subject_102_Image_9252.nii.gz'    \n",
    "image = nib.load(nibFilename)\n",
    "\n",
    "print(image.shape) # 79 x 95 x 68 = 510340 pixels\n",
    "print(image.get_data_dtype()) # float32\n",
    "\n",
    "# let's convert it to a numpy array!\n",
    "data = image.get_data()\n",
    "print(data.shape)\n"
   ]
  },
  {
   "cell_type": "code",
   "execution_count": 11,
   "metadata": {
    "collapsed": true
   },
   "outputs": [],
   "source": [
    "# for more detail of the data\n",
    "??image"
   ]
  },
  {
   "cell_type": "markdown",
   "metadata": {},
   "source": [
    "## TO DO\n",
    "Now, you know how to load $Y$ and $X$!\n",
    "\n",
    "Nest step is build a model for predicting $Y$ from $X$.\n",
    "When you train a model use data samples $(X,Y)$ with Holdout=Train.\n",
    "Once your have a model, use the data samples with Holdout=Test."
   ]
  },
  {
   "cell_type": "code",
   "execution_count": 16,
   "metadata": {},
   "outputs": [
    {
     "data": {
      "text/plain": [
       "0        Test\n",
       "1        Test\n",
       "2        Test\n",
       "3        Test\n",
       "4        Test\n",
       "5        Test\n",
       "6        Test\n",
       "7        Test\n",
       "8        Test\n",
       "9        Test\n",
       "10       Test\n",
       "11       Test\n",
       "12       Test\n",
       "13       Test\n",
       "14       Test\n",
       "15       Test\n",
       "16       Test\n",
       "17       Test\n",
       "18       Test\n",
       "19       Test\n",
       "20       Test\n",
       "21       Test\n",
       "22       Test\n",
       "23       Test\n",
       "24       Test\n",
       "25       Test\n",
       "26       Test\n",
       "27      Train\n",
       "28      Train\n",
       "29      Train\n",
       "        ...  \n",
       "5121     Test\n",
       "5122     Test\n",
       "5123     Test\n",
       "5124     Test\n",
       "5125     Test\n",
       "5126     Test\n",
       "5127     Test\n",
       "5128     Test\n",
       "5129     Test\n",
       "5130     Test\n",
       "5131     Test\n",
       "5132     Test\n",
       "5133     Test\n",
       "5134     Test\n",
       "5135     Test\n",
       "5136     Test\n",
       "5137     Test\n",
       "5138     Test\n",
       "5139     Test\n",
       "5140     Test\n",
       "5141     Test\n",
       "5142     Test\n",
       "5143     Test\n",
       "5144     Test\n",
       "5145     Test\n",
       "5146     Test\n",
       "5147     Test\n",
       "5148     Test\n",
       "5149     Test\n",
       "5150     Test\n",
       "Name: Holdout, Length: 5151, dtype: object"
      ]
     },
     "execution_count": 16,
     "metadata": {},
     "output_type": "execute_result"
    }
   ],
   "source": [
    "PINES['Holdout']"
   ]
  },
  {
   "cell_type": "code",
   "execution_count": null,
   "metadata": {
    "collapsed": true
   },
   "outputs": [],
   "source": []
  }
 ],
 "metadata": {
  "kernelspec": {
   "display_name": "Python 3",
   "language": "python",
   "name": "python3"
  },
  "language_info": {
   "codemirror_mode": {
    "name": "ipython",
    "version": 3
   },
   "file_extension": ".py",
   "mimetype": "text/x-python",
   "name": "python",
   "nbconvert_exporter": "python",
   "pygments_lexer": "ipython3",
   "version": "3.6.4"
  }
 },
 "nbformat": 4,
 "nbformat_minor": 2
}
