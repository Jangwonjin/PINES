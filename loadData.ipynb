{
 "cells": [
  {
   "cell_type": "code",
   "execution_count": 1,
   "metadata": {},
   "outputs": [
    {
     "data": {
      "text/html": [
       "<div id=\"NeuroVaultPapayaHolder\"><script src=\"http://neurovault.org/images/3647/js/embed\" type=\"text/javascript\" charset=\"utf-8\"></script></div>"
      ],
      "text/plain": [
       "<IPython.core.display.HTML object>"
      ]
     },
     "execution_count": 1,
     "metadata": {},
     "output_type": "execute_result"
    }
   ],
   "source": [
    "# plot a sample image \n",
    "from IPython.display import HTML\n",
    "\n",
    "imageID = 3647\n",
    "imageAddress='http://neurovault.org/images/{}'.format(imageID)\n",
    "HTML('<div id=\"NeuroVaultPapayaHolder\"><script src=\"' + imageAddress + '/js/embed\" type=\"text/javascript\" charset=\"utf-8\"></script></div>')"
   ]
  },
  {
   "cell_type": "code",
   "execution_count": null,
   "metadata": {
    "collapsed": true
   },
   "outputs": [],
   "source": [
    "# First, download the data file\n",
    "!wget https://neurovault.org/media/images/503/IAPS_Subject_102_Image_9252.nii.gz"
   ]
  },
  {
   "cell_type": "code",
   "execution_count": 9,
   "metadata": {},
   "outputs": [
    {
     "name": "stdout",
     "output_type": "stream",
     "text": [
      "(79, 95, 68)\n",
      "float32\n",
      "(79, 95, 68)\n"
     ]
    }
   ],
   "source": [
    "# Next, let's load the data    \n",
    "import nibabel as nib\n",
    "\n",
    "# load it\n",
    "nibFilename = 'IAPS_Subject_102_Image_9252.nii.gz'    \n",
    "image = nib.load(nibFilename)\n",
    "\n",
    "print(image.shape) # 79 x 95 x 68 = 510340 pixels\n",
    "print(image.get_data_dtype()) # float32\n",
    "\n",
    "# let's convert it to a numpy array!\n",
    "data = image.get_data()\n",
    "print(data.shape)\n"
   ]
  },
  {
   "cell_type": "code",
   "execution_count": 11,
   "metadata": {},
   "outputs": [],
   "source": [
    "# for more detail of the data\n",
    "??image"
   ]
  },
  {
   "cell_type": "markdown",
   "metadata": {},
   "source": [
    "Now, you know how to load a file!"
   ]
  }
 ],
 "metadata": {
  "kernelspec": {
   "display_name": "Python 3",
   "language": "python",
   "name": "python3"
  },
  "language_info": {
   "codemirror_mode": {
    "name": "ipython",
    "version": 3
   },
   "file_extension": ".py",
   "mimetype": "text/x-python",
   "name": "python",
   "nbconvert_exporter": "python",
   "pygments_lexer": "ipython3",
   "version": "3.6.4"
  }
 },
 "nbformat": 4,
 "nbformat_minor": 2
}
